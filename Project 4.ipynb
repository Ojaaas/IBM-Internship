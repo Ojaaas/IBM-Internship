{
 "cells": [
  {
   "cell_type": "markdown",
   "id": "2bcb9bc6",
   "metadata": {},
   "source": [
    "# Homework 4"
   ]
  },
  {
   "cell_type": "code",
   "execution_count": 73,
   "id": "79033639",
   "metadata": {},
   "outputs": [],
   "source": [
    "import pandas as pd\n",
    "import numpy as np\n",
    "import matplotlib.pyplot as plt\n",
    "import re\n",
    "from urllib.parse import unquote\n",
    "import itertools"
   ]
  },
  {
   "cell_type": "code",
   "execution_count": 74,
   "id": "8401f1b5",
   "metadata": {},
   "outputs": [],
   "source": [
    "search_df = pd.read_json('search_sample.txt', lines=True)"
   ]
  },
  {
   "cell_type": "code",
   "execution_count": 75,
   "id": "f08732d0",
   "metadata": {},
   "outputs": [],
   "source": [
    "query_re = re.compile('query=[^&]*')\n",
    "def get_row_query(row):\n",
    "    if row['url']:\n",
    "        match = query_re.search(row['url'])\n",
    "        if match != None and match[0]:\n",
    "            return unquote(match[0][6:]).split(' ')\n",
    "        return \"N/A\"\n",
    "    \n",
    "def create_keyword_map(row, keywords):\n",
    "    for keyword in row['query']:\n",
    "        if keyword in keywords:\n",
    "            keywords[keyword] += 1\n",
    "        else:\n",
    "            keywords[keyword] = 1"
   ]
  },
  {
   "cell_type": "code",
   "execution_count": 76,
   "id": "eec197fc",
   "metadata": {},
   "outputs": [],
   "source": [
    "search_df['query'] = search_df.apply(lambda row: get_row_query(row), axis=1)"
   ]
  },
  {
   "cell_type": "code",
   "execution_count": 77,
   "id": "db12a8d8",
   "metadata": {},
   "outputs": [],
   "source": [
    "keywords = {}\n",
    "df_zero_results = search_df[search_df['totalresults'] == 0]\n",
    "df_zero_results.apply(lambda row: create_keyword_map(row,keywords), axis=1)\n",
    "keywords = dict(sorted(keywords.items(), key=lambda item: item[1], reverse=True))\n",
    "top_keywords = dict(itertools.islice(keywords.items(), 20))"
   ]
  },
  {
   "cell_type": "markdown",
   "id": "9d9a0d0c",
   "metadata": {},
   "source": [
    "### Part 1\n",
    "\n",
    "Use get_chart_values to create an object that holds two arrays. One array is going to be the x labels for the bar chart, and the other will be the y values. You'll need to pass it a dictionary that has a set of ordered keywords"
   ]
  },
  {
   "cell_type": "code",
   "execution_count": 78,
   "id": "24fc659c",
   "metadata": {},
   "outputs": [],
   "source": [
    "# Uncomment the function below and replace ? with the correct values\n",
    "\n",
    "def get_chart_values(keywords):\n",
    "    x_values = []\n",
    "    y_values = []\n",
    "    for k, v in keywords.items():\n",
    "        x_values.append(k)\n",
    "        y_values.append(v)\n",
    "    return [x_values, y_values]"
   ]
  },
  {
   "cell_type": "code",
   "execution_count": 79,
   "id": "087c2d8e",
   "metadata": {},
   "outputs": [],
   "source": [
    "# Uncomment the line below and replace ? with the proper variable\n",
    "\n",
    "chart_values = get_chart_values(top_keywords)"
   ]
  },
  {
   "cell_type": "markdown",
   "id": "006734a8",
   "metadata": {},
   "source": [
    "### Part 2\n",
    "\n",
    "Use matplotlib to create a bar chart that displays the entries in top_keywords\n",
    "- reference: https://matplotlib.org/stable/api/_as_gen/matplotlib.pyplot.bar.html\n",
    "- reference: https://www.tutorialspoint.com/matplotlib/matplotlib_bar_plot.htm"
   ]
  },
  {
   "cell_type": "code",
   "execution_count": 80,
   "id": "3f7a81e9",
   "metadata": {},
   "outputs": [
    {
     "data": {
      "image/png": "[encoded data removed]",
      "text/plain": [
       "<Figure size 432x288 with 1 Axes>"
      ]
     },
     "metadata": {
      "needs_background": "light"
     },
     "output_type": "display_data"
    }
   ],
   "source": [
    "# Uncomment the code below and replace the ? with the correct values\n",
    "\n",
    "fig = plt.figure()\n",
    "ax = fig.add_axes([0,0,1,1])\n",
    "x = chart_values[0]\n",
    "y = chart_values[1]\n",
    "ax.bar(x, y)\n",
    "\n",
    "# The value for rotation should make the x axis labels vertical\n",
    "plt.xticks(rotation=-90)\n",
    "plt.show()"
   ]
  }
 ],
 "metadata": {
  "kernelspec": {
   "display_name": "Python 3",
   "language": "python",
   "name": "python3"
  },
  "language_info": {
   "codemirror_mode": {
    "name": "ipython",
    "version": 3
   },
   "file_extension": ".py",
   "mimetype": "text/x-python",
   "name": "python",
   "nbconvert_exporter": "python",
   "pygments_lexer": "ipython3",
   "version": "3.8.8"
  }
 },
 "nbformat": 4,
 "nbformat_minor": 5
}
