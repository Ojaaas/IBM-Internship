{
 "cells": [
  {
   "cell_type": "markdown",
   "id": "1dd985c5",
   "metadata": {},
   "source": [
    "# Homework 2\n",
    "\n",
    "Run the code cell below before starting."
   ]
  },
  {
   "cell_type": "code",
   "execution_count": 29,
   "id": "26a17bbf",
   "metadata": {},
   "outputs": [],
   "source": [
    "import pandas as pd\n",
    "import numpy as np\n",
    "import matplotlib as mp"
   ]
  },
  {
   "cell_type": "code",
   "execution_count": 30,
   "id": "17be5ee9",
   "metadata": {},
   "outputs": [
    {
     "data": {
      "text/html": [
       "<div>\n",
       "<style scoped>\n",
       "    .dataframe tbody tr th:only-of-type {\n",
       "        vertical-align: middle;\n",
       "    }\n",
       "\n",
       "    .dataframe tbody tr th {\n",
       "        vertical-align: top;\n",
       "    }\n",
       "\n",
       "    .dataframe thead th {\n",
       "        text-align: right;\n",
       "    }\n",
       "</style>\n",
       "<table border=\"1\" class=\"dataframe\">\n",
       "  <thead>\n",
       "    <tr style=\"text-align: right;\">\n",
       "      <th></th>\n",
       "      <th>timestamp</th>\n",
       "      <th>requestid</th>\n",
       "      <th>appid</th>\n",
       "      <th>url</th>\n",
       "      <th>engineReqRespTime</th>\n",
       "      <th>elsReqRespTimeSm</th>\n",
       "      <th>totalresults</th>\n",
       "      <th>smresults</th>\n",
       "      <th>level</th>\n",
       "    </tr>\n",
       "  </thead>\n",
       "  <tbody>\n",
       "    <tr>\n",
       "      <th>0</th>\n",
       "      <td>2021-07-11 14:53:10.788</td>\n",
       "      <td>c65647a8-bb47-45bd-8ffe-628fd7092c95</td>\n",
       "      <td>its</td>\n",
       "      <td>/ibmcom/appid/its/responseFormat/json?nr=5&amp;fr=...</td>\n",
       "      <td>320.031425</td>\n",
       "      <td>188.532093</td>\n",
       "      <td>120</td>\n",
       "      <td>0</td>\n",
       "      <td>info</td>\n",
       "    </tr>\n",
       "    <tr>\n",
       "      <th>1</th>\n",
       "      <td>2021-07-11 14:53:10.967</td>\n",
       "      <td>3826f01e-0548-411d-9d29-5b3735a4e1b5</td>\n",
       "      <td>dblue</td>\n",
       "      <td>/ibmcom/appid/dblue/responseFormat/xml?&amp;query=...</td>\n",
       "      <td>47.359328</td>\n",
       "      <td>NaN</td>\n",
       "      <td>0</td>\n",
       "      <td>0</td>\n",
       "      <td>info</td>\n",
       "    </tr>\n",
       "    <tr>\n",
       "      <th>2</th>\n",
       "      <td>2021-07-11 14:53:11.247</td>\n",
       "      <td>d05b7ac0-897b-4a54-9947-397f75554e15</td>\n",
       "      <td>its</td>\n",
       "      <td>/ibmcom/appid/its/responseFormat/json?nr=5&amp;fr=...</td>\n",
       "      <td>171.039145</td>\n",
       "      <td>158.864793</td>\n",
       "      <td>0</td>\n",
       "      <td>0</td>\n",
       "      <td>info</td>\n",
       "    </tr>\n",
       "    <tr>\n",
       "      <th>3</th>\n",
       "      <td>2021-07-11 14:53:11.647</td>\n",
       "      <td>a2d31daf-31be-437d-b587-d7fa31aed884</td>\n",
       "      <td>dw</td>\n",
       "      <td>/ibmcom/appid/dw/responseFormat/json?query=acl...</td>\n",
       "      <td>64.383266</td>\n",
       "      <td>NaN</td>\n",
       "      <td>91</td>\n",
       "      <td>0</td>\n",
       "      <td>info</td>\n",
       "    </tr>\n",
       "    <tr>\n",
       "      <th>4</th>\n",
       "      <td>2021-07-11 14:53:11.915</td>\n",
       "      <td>592f79eb-90f8-4647-8178-b95d360bd23e</td>\n",
       "      <td>its</td>\n",
       "      <td>/ibmcom/appid/its/responseFormat/json?nr=20&amp;fr...</td>\n",
       "      <td>184.999536</td>\n",
       "      <td>179.900902</td>\n",
       "      <td>9</td>\n",
       "      <td>1</td>\n",
       "      <td>info</td>\n",
       "    </tr>\n",
       "  </tbody>\n",
       "</table>\n",
       "</div>"
      ],
      "text/plain": [
       "                timestamp                             requestid  appid  \\\n",
       "0 2021-07-11 14:53:10.788  c65647a8-bb47-45bd-8ffe-628fd7092c95    its   \n",
       "1 2021-07-11 14:53:10.967  3826f01e-0548-411d-9d29-5b3735a4e1b5  dblue   \n",
       "2 2021-07-11 14:53:11.247  d05b7ac0-897b-4a54-9947-397f75554e15    its   \n",
       "3 2021-07-11 14:53:11.647  a2d31daf-31be-437d-b587-d7fa31aed884     dw   \n",
       "4 2021-07-11 14:53:11.915  592f79eb-90f8-4647-8178-b95d360bd23e    its   \n",
       "\n",
       "                                                 url  engineReqRespTime  \\\n",
       "0  /ibmcom/appid/its/responseFormat/json?nr=5&fr=...         320.031425   \n",
       "1  /ibmcom/appid/dblue/responseFormat/xml?&query=...          47.359328   \n",
       "2  /ibmcom/appid/its/responseFormat/json?nr=5&fr=...         171.039145   \n",
       "3  /ibmcom/appid/dw/responseFormat/json?query=acl...          64.383266   \n",
       "4  /ibmcom/appid/its/responseFormat/json?nr=20&fr...         184.999536   \n",
       "\n",
       "   elsReqRespTimeSm  totalresults  smresults level  \n",
       "0        188.532093           120          0  info  \n",
       "1               NaN             0          0  info  \n",
       "2        158.864793             0          0  info  \n",
       "3               NaN            91          0  info  \n",
       "4        179.900902             9          1  info  "
      ]
     },
     "execution_count": 30,
     "metadata": {},
     "output_type": "execute_result"
    }
   ],
   "source": [
    "search_df = pd.read_json('search_sample.txt', lines=True)\n",
    "search_df.head()"
   ]
  },
  {
   "cell_type": "markdown",
   "id": "be1f32d8",
   "metadata": {},
   "source": [
    "### Part 1\n",
    "\n",
    "Print out the number of queries in the dataframe.\n",
    "Hint: this will be the same as printing out the number of rows."
   ]
  },
  {
   "cell_type": "code",
   "execution_count": 31,
   "id": "c0ce4767",
   "metadata": {},
   "outputs": [
    {
     "data": {
      "text/plain": [
       "19999"
      ]
     },
     "execution_count": 31,
     "metadata": {},
     "output_type": "execute_result"
    }
   ],
   "source": [
    "search_df.shape[0]"
   ]
  },
  {
   "cell_type": "markdown",
   "id": "1c8aabe7",
   "metadata": {},
   "source": [
    "### Part 2\n",
    "\n",
    "Using the 'appid' column print out how many queries were made on developer.ibm.com.\n",
    "The value for appid will be 'dw'"
   ]
  },
  {
   "cell_type": "code",
   "execution_count": 32,
   "id": "ba8df8c6",
   "metadata": {},
   "outputs": [],
   "source": [
    "developer_search_df = search_df[search_df['appid'] == 'dw']"
   ]
  },
  {
   "cell_type": "markdown",
   "id": "ee1d509b",
   "metadata": {},
   "source": [
    "### Part 3\n",
    "\n",
    "Print out the number of rows in the developer_search_df"
   ]
  },
  {
   "cell_type": "code",
   "execution_count": 33,
   "id": "6ec438b2",
   "metadata": {},
   "outputs": [
    {
     "data": {
      "text/plain": [
       "525"
      ]
     },
     "execution_count": 33,
     "metadata": {},
     "output_type": "execute_result"
    }
   ],
   "source": [
    "developer_search_df.shape[0]"
   ]
  },
  {
   "cell_type": "code",
   "execution_count": 34,
   "id": "19458c37",
   "metadata": {},
   "outputs": [
    {
     "name": "stdout",
     "output_type": "stream",
     "text": [
      "Percent: 2.63\n"
     ]
    }
   ],
   "source": [
    "percent = (developer_search_df.shape[0]/search_df.shape[0]) * 100\n",
    "print('Percent: {0:.2f}'.format(percent))"
   ]
  }
 ],
 "metadata": {
  "kernelspec": {
   "display_name": "Python 3",
   "language": "python",
   "name": "python3"
  },
  "language_info": {
   "codemirror_mode": {
    "name": "ipython",
    "version": 3
   },
   "file_extension": ".py",
   "mimetype": "text/x-python",
   "name": "python",
   "nbconvert_exporter": "python",
   "pygments_lexer": "ipython3",
   "version": "3.8.8"
  }
 },
 "nbformat": 4,
 "nbformat_minor": 5
}
