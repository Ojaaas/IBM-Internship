{
 "cells": [
  {
   "cell_type": "markdown",
   "id": "2bcb9bc6",
   "metadata": {},
   "source": [
    "# Homework 3"
   ]
  },
  {
   "cell_type": "code",
   "execution_count": 113,
   "id": "79033639",
   "metadata": {},
   "outputs": [],
   "source": [
    "import pandas as pd\n",
    "import numpy as np\n",
    "import matplotlib as mp\n",
    "import re\n",
    "from urllib.parse import unquote\n",
    "import itertools"
   ]
  },
  {
   "cell_type": "code",
   "execution_count": 114,
   "id": "8401f1b5",
   "metadata": {},
   "outputs": [],
   "source": [
    "search_df = pd.read_json('search_sample.txt', lines=True)"
   ]
  },
  {
   "cell_type": "code",
   "execution_count": 115,
   "id": "f08732d0",
   "metadata": {},
   "outputs": [],
   "source": [
    "query_re = re.compile('query=[^&]*')\n",
    "def get_row_query(row):\n",
    "    if row['url']:\n",
    "        match = query_re.search(row['url'])\n",
    "        if match != None and match[0]:\n",
    "            return unquote(match[0][6:]).split(' ')\n",
    "        return \"N/A\"\n",
    "    \n",
    "def create_keyword_map(row, keywords):\n",
    "    for keyword in row['query']:\n",
    "        if keyword in keywords:\n",
    "            keywords[keyword] += 1\n",
    "        else:\n",
    "            keywords[keyword] = 1"
   ]
  },
  {
   "cell_type": "code",
   "execution_count": 116,
   "id": "eec197fc",
   "metadata": {},
   "outputs": [],
   "source": [
    "search_df['query'] = search_df.apply(lambda row: get_row_query(row), axis=1)"
   ]
  },
  {
   "cell_type": "markdown",
   "id": "0056692d",
   "metadata": {},
   "source": [
    "### Part 1\n",
    "\n",
    "Create a new dataframe that only has rows where the search returned 0 results"
   ]
  },
  {
   "cell_type": "code",
   "execution_count": 117,
   "id": "db12a8d8",
   "metadata": {},
   "outputs": [],
   "source": [
    "# Uncomment the line below and replace the ? with the proper values\n",
    "\n",
    "df_zero_results = search_df[search_df['totalresults'] == 0]"
   ]
  },
  {
   "cell_type": "markdown",
   "id": "8c5859b3",
   "metadata": {},
   "source": [
    "### Part 2\n",
    "\n",
    "Now that we have a dataframe with only 0 result entries we need to create a dictionary of keywords that tells us how many times each keyword is found."
   ]
  },
  {
   "cell_type": "code",
   "execution_count": 118,
   "id": "c1d8f451",
   "metadata": {},
   "outputs": [],
   "source": [
    "# create an empty dictionary called keywords\n",
    "\n",
    "keywords = {}"
   ]
  },
  {
   "cell_type": "code",
   "execution_count": 119,
   "id": "1aab79d6",
   "metadata": {},
   "outputs": [
    {
     "data": {
      "text/plain": [
       "1        None\n",
       "2        None\n",
       "5        None\n",
       "6        None\n",
       "9        None\n",
       "         ... \n",
       "19993    None\n",
       "19994    None\n",
       "19995    None\n",
       "19996    None\n",
       "19998    None\n",
       "Length: 10005, dtype: object"
      ]
     },
     "execution_count": 119,
     "metadata": {},
     "output_type": "execute_result"
    }
   ],
   "source": [
    "# Uncomment the line below and replace the ? with the proper values\n",
    "# hint: Look at code cell #4 and the definition of create_keyword_map in code cell #3\n",
    "\n",
    "df_zero_results.apply(lambda row: create_keyword_map(row, keywords), axis=1)"
   ]
  },
  {
   "cell_type": "markdown",
   "id": "5fb75fcd",
   "metadata": {},
   "source": [
    "### Part 3\n",
    "\n",
    "Now we need to get the top 20 results so the dictionary needs to be sorted in descending order. The function below will return a sorted dictionary, you will need to add a parameted to make it a descending order sort.\n",
    "\n",
    "reference: https://docs.python.org/3/howto/sorting.html"
   ]
  },
  {
   "cell_type": "code",
   "execution_count": 120,
   "id": "9906cec4",
   "metadata": {},
   "outputs": [],
   "source": [
    "# Uncomment the line below and replace the ? with the proper values\n",
    "\n",
    "keywords = dict(sorted(keywords.items(), key=lambda item: item[1], reverse=True))"
   ]
  },
  {
   "cell_type": "markdown",
   "id": "415f76b0",
   "metadata": {},
   "source": [
    "### Part 4\n",
    "\n",
    "Now we have a sorted dictionary, but we only need the top 20 results. The function below is used to return a slice of a dictionary, you need update to return the correct number of entries."
   ]
  },
  {
   "cell_type": "code",
   "execution_count": 121,
   "id": "d2cb8c30",
   "metadata": {},
   "outputs": [
    {
     "name": "stdout",
     "output_type": "stream",
     "text": [
      "Top 20 Terms That Are Not Found\n",
      "-------------------------------\n",
      " (1253)\n",
      "\n",
      "IBM (1194)\n",
      "\n",
      "for (890)\n",
      "\n",
      "SPSS (744)\n",
      "\n",
      "Statistics (740)\n",
      "\n",
      "9 (620)\n",
      "\n",
      "Server (362)\n",
      "\n",
      "z/OS (339)\n",
      "\n",
      "Manager (276)\n",
      "\n",
      "Rational (261)\n",
      "\n",
      "7 (254)\n",
      "\n",
      "Application (254)\n",
      "\n",
      "8 (243)\n",
      "\n",
      "\"TS\" (230)\n",
      "\n",
      "WebSphere (225)\n",
      "\n",
      "10 (224)\n",
      "\n",
      "24 (221)\n",
      "\n",
      "5 (201)\n",
      "\n",
      "and (190)\n",
      "\n",
      "Transaction (182)\n",
      "\n"
     ]
    }
   ],
   "source": [
    "# Uncomment the line below and replace the ? with the correct value\n",
    "# hint: how many items do we want?\n",
    "\n",
    "top_keywords = dict(itertools.islice(keywords.items(), 20))\n",
    "\n",
    "print('Top 20 Terms That Are Not Found')\n",
    "print('-------------------------------')\n",
    "for k, v in top_keywords.items():\n",
    "    print('{} ({})\\n'.format(k, v))"
   ]
  },
  {
   "cell_type": "code",
   "execution_count": null,
   "id": "59fe624e",
   "metadata": {},
   "outputs": [],
   "source": []
  }
 ],
 "metadata": {
  "kernelspec": {
   "display_name": "Python 3",
   "language": "python",
   "name": "python3"
  },
  "language_info": {
   "codemirror_mode": {
    "name": "ipython",
    "version": 3
   },
   "file_extension": ".py",
   "mimetype": "text/x-python",
   "name": "python",
   "nbconvert_exporter": "python",
   "pygments_lexer": "ipython3",
   "version": "3.8.8"
  }
 },
 "nbformat": 4,
 "nbformat_minor": 5
}
